{
 "cells": [
  {
   "cell_type": "code",
   "execution_count": 1,
   "metadata": {},
   "outputs": [
    {
     "name": "stdout",
     "output_type": "stream",
     "text": [
      "       Type  Product         Started Date       Completed Date  \\\n",
      "0  TRANSFER  Current  2024-04-08 02:00:00  2024-04-08 12:55:40   \n",
      "1     TOPUP  Current  2024-04-11 08:21:31  2024-04-11 08:21:31   \n",
      "2  EXCHANGE  Current  2024-04-12 12:07:07  2024-04-12 12:07:07   \n",
      "3  EXCHANGE  Current  2024-04-12 13:18:05  2024-04-12 13:18:05   \n",
      "4  EXCHANGE  Current  2024-04-12 18:23:04  2024-04-12 18:23:04   \n",
      "\n",
      "            Description  Amount  Fee Currency      State  Balance Category  \n",
      "0  To SCHUFA Holding AG   -3.95  0.0      EUR  COMPLETED  1005.40   CASSIO  \n",
      "1   Payment from Stripe   23.89  0.0      EUR  COMPLETED  1029.29   MEDIUM  \n",
      "2           Revolut Ltd   -5.00  0.0      EUR  COMPLETED  1024.29  BITCOIN  \n",
      "3           Revolut Ltd   -2.50  0.0      EUR  COMPLETED  1021.79  BITCOIN  \n",
      "4           Revolut Ltd   -5.00  0.0      EUR  COMPLETED  1016.79  BITCOIN  \n"
     ]
    }
   ],
   "source": [
    "import pandas as pd\n",
    "\n",
    "# File path to the CSV file\n",
    "file_path = 'account-statement_2024-04-01_2024-04-30_pt_62a9ca.csv'\n",
    "\n",
    "# Read the CSV file\n",
    "df = pd.read_csv(file_path)\n",
    "\n",
    "# Display the first 5 rows of the DataFrame\n",
    "print(df.head())"
   ]
  }
 ],
 "metadata": {
  "kernelspec": {
   "display_name": "Python 3",
   "language": "python",
   "name": "python3"
  },
  "language_info": {
   "codemirror_mode": {
    "name": "ipython",
    "version": 3
   },
   "file_extension": ".py",
   "mimetype": "text/x-python",
   "name": "python",
   "nbconvert_exporter": "python",
   "pygments_lexer": "ipython3",
   "version": "3.8.10"
  }
 },
 "nbformat": 4,
 "nbformat_minor": 2
}
